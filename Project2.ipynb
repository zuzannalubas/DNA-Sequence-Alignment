{
 "cells": [
  {
   "cell_type": "code",
   "execution_count": 7,
   "id": "b711018f-b067-4e77-ae93-d81b9a6f7986",
   "metadata": {},
   "outputs": [
    {
     "name": "stdout",
     "output_type": "stream",
     "text": [
      "Global Alignment:\n",
      "G-ATTACA\n",
      "GCA-TGCU\n"
     ]
    }
   ],
   "source": [
    "import numpy as np\n",
    "\n",
    "def needleman_wunsch(seq1, seq2, match=1, mismatch=-1, gap=-1):\n",
    "    \"\"\"Implementation of the Needleman-Wunsch algorithm for global DNA sequence alignment.\"\"\"\n",
    "    n, m = len(seq1), len(seq2)\n",
    "    score_matrix = np.zeros((n+1, m+1))\n",
    "    \n",
    "    # Initialize the matrix\n",
    "    for i in range(n+1):\n",
    "        score_matrix[i][0] = i * gap\n",
    "    for j in range(m+1):\n",
    "        score_matrix[0][j] = j * gap\n",
    "    \n",
    "    # Fill the matrix\n",
    "    for i in range(1, n+1):\n",
    "        for j in range(1, m+1):\n",
    "            match_score = score_matrix[i-1][j-1] + (match if seq1[i-1] == seq2[j-1] else mismatch)\n",
    "            delete = score_matrix[i-1][j] + gap\n",
    "            insert = score_matrix[i][j-1] + gap\n",
    "            score_matrix[i][j] = max(match_score, delete, insert)\n",
    "    \n",
    "    # Traceback to obtain the alignment\n",
    "    align1, align2 = \"\", \"\"\n",
    "    i, j = n, m\n",
    "    while i > 0 and j > 0:\n",
    "        if score_matrix[i][j] == score_matrix[i-1][j-1] + (match if seq1[i-1] == seq2[j-1] else mismatch):\n",
    "            align1 += seq1[i-1]\n",
    "            align2 += seq2[j-1]\n",
    "            i -= 1\n",
    "            j -= 1\n",
    "        elif score_matrix[i][j] == score_matrix[i-1][j] + gap:\n",
    "            align1 += seq1[i-1]\n",
    "            align2 += \"-\"\n",
    "            i -= 1\n",
    "        else:\n",
    "            align1 += \"-\"\n",
    "            align2 += seq2[j-1]\n",
    "            j -= 1\n",
    "    \n",
    "    return align1[::-1], align2[::-1]\n",
    "\n",
    "# Example DNA sequences\n",
    "seq1 = \"GATTACA\"\n",
    "seq2 = \"GCATGCU\"\n",
    "\n",
    "alignment1, alignment2 = needleman_wunsch(seq1, seq2)\n",
    "print(\"Global Alignment:\")\n",
    "print(alignment1)\n",
    "print(alignment2)"
   ]
  },
  {
   "cell_type": "code",
   "execution_count": null,
   "id": "a896fba8-7fb8-445b-ae24-01294d24abbb",
   "metadata": {},
   "outputs": [],
   "source": []
  }
 ],
 "metadata": {
  "kernelspec": {
   "display_name": "Python 3 (ipykernel)",
   "language": "python",
   "name": "python3"
  },
  "language_info": {
   "codemirror_mode": {
    "name": "ipython",
    "version": 3
   },
   "file_extension": ".py",
   "mimetype": "text/x-python",
   "name": "python",
   "nbconvert_exporter": "python",
   "pygments_lexer": "ipython3",
   "version": "3.10.13"
  }
 },
 "nbformat": 4,
 "nbformat_minor": 5
}
